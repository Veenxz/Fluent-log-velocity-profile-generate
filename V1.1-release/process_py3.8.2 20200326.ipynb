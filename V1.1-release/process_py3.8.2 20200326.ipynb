{
 "cells": [
  {
   "cell_type": "markdown",
   "metadata": {},
   "source": [
    "# 1.导入数据"
   ]
  },
  {
   "cell_type": "code",
   "execution_count": 4,
   "metadata": {},
   "outputs": [
    {
     "data": {
      "text/html": [
       "<div>\n",
       "<style scoped>\n",
       "    .dataframe tbody tr th:only-of-type {\n",
       "        vertical-align: middle;\n",
       "    }\n",
       "\n",
       "    .dataframe tbody tr th {\n",
       "        vertical-align: top;\n",
       "    }\n",
       "\n",
       "    .dataframe thead th {\n",
       "        text-align: right;\n",
       "    }\n",
       "</style>\n",
       "<table border=\"1\" class=\"dataframe\">\n",
       "  <thead>\n",
       "    <tr style=\"text-align: right;\">\n",
       "      <th></th>\n",
       "      <th>x</th>\n",
       "      <th>y</th>\n",
       "      <th>z</th>\n",
       "    </tr>\n",
       "  </thead>\n",
       "  <tbody>\n",
       "    <tr>\n",
       "      <th>0</th>\n",
       "      <td>0.0</td>\n",
       "      <td>0.187562</td>\n",
       "      <td>0.56</td>\n",
       "    </tr>\n",
       "    <tr>\n",
       "      <th>1</th>\n",
       "      <td>0.0</td>\n",
       "      <td>0.236429</td>\n",
       "      <td>0.56</td>\n",
       "    </tr>\n",
       "    <tr>\n",
       "      <th>2</th>\n",
       "      <td>0.0</td>\n",
       "      <td>0.182734</td>\n",
       "      <td>0.58</td>\n",
       "    </tr>\n",
       "    <tr>\n",
       "      <th>3</th>\n",
       "      <td>0.0</td>\n",
       "      <td>0.285688</td>\n",
       "      <td>0.56</td>\n",
       "    </tr>\n",
       "    <tr>\n",
       "      <th>4</th>\n",
       "      <td>0.0</td>\n",
       "      <td>0.231891</td>\n",
       "      <td>0.58</td>\n",
       "    </tr>\n",
       "  </tbody>\n",
       "</table>\n",
       "</div>"
      ],
      "text/plain": [
       "     x         y     z\n",
       "0  0.0  0.187562  0.56\n",
       "1  0.0  0.236429  0.56\n",
       "2  0.0  0.182734  0.58\n",
       "3  0.0  0.285688  0.56\n",
       "4  0.0  0.231891  0.58"
      ]
     },
     "execution_count": 4,
     "metadata": {},
     "output_type": "execute_result"
    }
   ],
   "source": [
    "# 导入依赖包\n",
    "import pandas as pd\n",
    "import math\n",
    "from math import log\n",
    "\n",
    "# 导入数组\n",
    "df = pd.read_csv('profile_out.csv')  # DataFrame\n",
    "# 删除无关行无关列\n",
    "dfclean = df.drop([0, 1, 2, 3]).drop(columns = ['Unnamed: 3'])\n",
    "\n",
    "dfclean =  dfclean.reset_index(drop=True)\n",
    "\n",
    "dfclean = dfclean.set_axis(['x', 'y', 'z'], axis='columns', inplace=False)\n",
    "\n",
    "# 将xyz转换为浮点型\n",
    "dfclean['x'] = dfclean['x'].apply(float)\n",
    "dfclean['y'] = dfclean['y'].apply(float)\n",
    "dfclean['z'] = dfclean['z'].apply(float)\n",
    "\n",
    "# 对z列进行取整，视网格大小而定\n",
    "dfclean['z']=dfclean['z'].map(lambda x:(\"%.2f\")%x)\n",
    "\n",
    "# 对dfclean进行排序\n",
    "dfclean.sort_values(by=['y','z'])\n",
    "dfclean.head()\n",
    "# dfclean.tail()\n"
   ]
  },
  {
   "cell_type": "markdown",
   "metadata": {},
   "source": [
    "# 2.运算"
   ]
  },
  {
   "cell_type": "code",
   "execution_count": 39,
   "metadata": {},
   "outputs": [],
   "source": [
    "# 对数律速度入口求解\n",
    "k = 0.41\n",
    "ustar = 0.9\n",
    "z0 = 0.5\n",
    "\n",
    "z = [z_row for z_row in dfclean[\"z\"].unique()]\n",
    "x = 0#[list(dfclean[dfclean['z']==z_row]['x']) for z_row in z]\n",
    "y = [list(dfclean[dfclean['z']==z_row]['y']) for z_row in z]\n",
    "h_ref =[[float(h)-float(min(ys))for h in ys] for ys in y]\n",
    "velocity = [[log(h/z0+1)*ustar/k for h in h_refs]for h_refs in h_ref]\n"
   ]
  },
  {
   "cell_type": "markdown",
   "metadata": {},
   "source": [
    "# 3.输出"
   ]
  },
  {
   "cell_type": "code",
   "execution_count": 40,
   "metadata": {
    "scrolled": true
   },
   "outputs": [
    {
     "name": "stdout",
     "output_type": "stream",
     "text": [
      "write over\n"
     ]
    }
   ],
   "source": [
    "import csv\n",
    "out = open('profile_out_02.csv','w', newline='')\n",
    "try:\n",
    "    csv_write = csv.writer(out,dialect='excel')\n",
    "    csv_write.writerow(['x','y','z','velocity','h_ref'])\n",
    "    for i in range(len(z)):\n",
    "        for j in range(len(y[i])):\n",
    "            csv_write.writerow([x,y[i][j],z[i],h_ref[i][j],velocity[i][j]])\n",
    "    print (\"write over\")\n",
    "finally:out.close()"
   ]
  },
  {
   "cell_type": "code",
   "execution_count": null,
   "metadata": {},
   "outputs": [],
   "source": []
  }
 ],
 "metadata": {
  "kernelspec": {
   "display_name": "Python 3",
   "language": "python",
   "name": "python3"
  },
  "language_info": {
   "codemirror_mode": {
    "name": "ipython",
    "version": 3
   },
   "file_extension": ".py",
   "mimetype": "text/x-python",
   "name": "python",
   "nbconvert_exporter": "python",
   "pygments_lexer": "ipython3",
   "version": "3.7.4"
  }
 },
 "nbformat": 4,
 "nbformat_minor": 2
}
